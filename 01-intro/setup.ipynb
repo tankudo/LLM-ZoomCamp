{
 "cells": [
  {
   "cell_type": "code",
   "execution_count": 1,
   "id": "c476ed32-386e-440b-9f8b-2a0e87ad704b",
   "metadata": {},
   "outputs": [],
   "source": [
    "import openai"
   ]
  },
  {
   "cell_type": "code",
   "execution_count": 2,
   "id": "809533ea-40e9-487c-a099-bb45a21fe147",
   "metadata": {},
   "outputs": [],
   "source": [
    "from openai import OpenAI"
   ]
  },
  {
   "cell_type": "code",
   "execution_count": 3,
   "id": "e1607dfa-4ed8-4b58-bd0d-011084b431bf",
   "metadata": {},
   "outputs": [],
   "source": [
    "client = OpenAI()"
   ]
  },
  {
   "cell_type": "code",
   "execution_count": 4,
   "id": "09968a7b-ba63-48e4-9beb-33bb3fd4f632",
   "metadata": {},
   "outputs": [],
   "source": [
    "import os"
   ]
  },
  {
   "cell_type": "code",
   "execution_count": 7,
   "id": "a2468b77-8c6b-40cc-873b-41408bcc2e9c",
   "metadata": {},
   "outputs": [],
   "source": [
    "response = client.chat.completions.create(\n",
    "    model='gpt-4o', \n",
    "    messages=[{\"role\": \"user\", \"content\": \"it is too late to join the course?\"}]\n",
    ")"
   ]
  },
  {
   "cell_type": "code",
   "execution_count": 8,
   "id": "9853ca63-9de7-41d5-8600-bd866ff84e13",
   "metadata": {},
   "outputs": [
    {
     "data": {
      "text/plain": [
       "'Whether it is too late to join a course depends on several factors:\\n\\n1. **Enrollment Deadlines:** Check if the course has specific enrollment deadlines. Many institutions or online platforms have cut-off dates for registration.\\n2. **Course Structure:** Some courses, especially online courses, may offer flexible or rolling admissions, meaning you can join at any time.\\n3. **Instructor Policies:** Contact the course instructor or administrator to inquire if late enrollment is an option. Sometimes they can make exceptions.\\n4. **Course Progress:** Consider how much of the course you have missed. If the course is well underway, you might need to catch up on missed material, which can be challenging.\\n\\nIf you provide more details about the specific course, I can offer more tailored advice!'"
      ]
     },
     "execution_count": 8,
     "metadata": {},
     "output_type": "execute_result"
    }
   ],
   "source": [
    "response.choices[0].message.content"
   ]
  },
  {
   "cell_type": "code",
   "execution_count": null,
   "id": "4af509da-ae66-4d0c-9c5d-7a9fd6052d67",
   "metadata": {},
   "outputs": [],
   "source": []
  }
 ],
 "metadata": {
  "kernelspec": {
   "display_name": "Python 3 (ipykernel)",
   "language": "python",
   "name": "python3"
  },
  "language_info": {
   "codemirror_mode": {
    "name": "ipython",
    "version": 3
   },
   "file_extension": ".py",
   "mimetype": "text/x-python",
   "name": "python",
   "nbconvert_exporter": "python",
   "pygments_lexer": "ipython3",
   "version": "3.10.13"
  }
 },
 "nbformat": 4,
 "nbformat_minor": 5
}
