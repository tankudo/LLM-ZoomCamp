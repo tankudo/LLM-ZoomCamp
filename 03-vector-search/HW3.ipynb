{
 "cells": [
  {
   "cell_type": "markdown",
   "id": "f996dba4-80b3-49de-8b0b-8ef91f969898",
   "metadata": {},
   "source": [
    "## Homework3: Vector Search"
   ]
  },
  {
   "cell_type": "markdown",
   "id": "3ea4714b-648d-4272-b7c9-5c08a3761ca8",
   "metadata": {},
   "source": [
    "### Q1. Getting the embeddings model"
   ]
  },
  {
   "cell_type": "code",
   "execution_count": null,
   "id": "7f22e722-b3ff-4b76-8e02-dbf74e69596d",
   "metadata": {},
   "outputs": [],
   "source": [
    "from sentence_transformers import SentenceTransformer"
   ]
  },
  {
   "cell_type": "code",
   "execution_count": null,
   "id": "8a4d916e-39ce-4d32-bc8c-9ee5a4c0b174",
   "metadata": {},
   "outputs": [],
   "source": [
    "embedding_model_name = 'multi-qa-distilbert-cos-v1'\n",
    "embedding_model = SentenceTransformer(embedding_model_name)"
   ]
  },
  {
   "cell_type": "code",
   "execution_count": null,
   "id": "5b8da789-b6d1-4b98-8d33-1d03f472e2b0",
   "metadata": {},
   "outputs": [],
   "source": [
    "user_question = \"I just discovered the course. Can I still join it?\"\n",
    "query_vector = embedding_model.encode(user_question)"
   ]
  },
  {
   "cell_type": "code",
   "execution_count": null,
   "id": "7958a064-236c-4fe2-93d4-1716f1917782",
   "metadata": {},
   "outputs": [],
   "source": [
    "query_vector[0]"
   ]
  },
  {
   "cell_type": "markdown",
   "id": "63c4fc03-f7c7-4870-b746-75734731f9f1",
   "metadata": {},
   "source": [
    "### Q2. Creating the embeddings"
   ]
  },
  {
   "cell_type": "code",
   "execution_count": null,
   "id": "65998e5f-79e8-43a3-b72d-c67e31b6fdf9",
   "metadata": {},
   "outputs": [],
   "source": [
    "import requests "
   ]
  },
  {
   "cell_type": "code",
   "execution_count": null,
   "id": "c6041a8a-3bd8-49ac-a4ac-470e7eb96d67",
   "metadata": {},
   "outputs": [],
   "source": [
    "base_url = 'https://github.com/DataTalksClub/llm-zoomcamp/blob/main'\n",
    "relative_url = '03-vector-search/eval/documents-with-ids.json'\n",
    "docs_url = f'{base_url}/{relative_url}?raw=1'\n",
    "docs_response = requests.get(docs_url)\n",
    "documents = docs_response.json()"
   ]
  },
  {
   "cell_type": "code",
   "execution_count": null,
   "id": "9e9fab7d-e6dd-43a2-a63d-3be43a5ffd11",
   "metadata": {},
   "outputs": [],
   "source": [
    "filtered_documents = [item for item in documents if item.get('course') == 'machine-learning-zoomcamp']"
   ]
  },
  {
   "cell_type": "code",
   "execution_count": null,
   "id": "cae569e8-3913-4b50-a731-3f1e766bf16a",
   "metadata": {},
   "outputs": [],
   "source": [
    "from tqdm.auto import tqdm"
   ]
  },
  {
   "cell_type": "code",
   "execution_count": null,
   "id": "1c673e3b-87a6-472f-af8e-f9292bac36ab",
   "metadata": {},
   "outputs": [],
   "source": [
    "embeddings = []\n",
    "for doc in tqdm(filtered_documents):\n",
    "    qa_text = f'{doc[\"question\"]} {doc[\"text\"]}'\n",
    "    \n",
    "    # Transforming the qa_text into an embedding using the embedding_model\n",
    "    # doc[\"qa_text_vector\"] = embedding_model.encode(qa_text).tolist()\n",
    "    # embeddings.append(doc)\n",
    "    embeddings.append(embedding_model.encode(qa_text))"
   ]
  },
  {
   "cell_type": "code",
   "execution_count": null,
   "id": "778a5d5b-ab85-4ab2-9b12-a0bb0c1b9341",
   "metadata": {},
   "outputs": [],
   "source": [
    "import numpy as np\n",
    "X = np.array(embeddings)\n",
    "X.shape"
   ]
  },
  {
   "cell_type": "markdown",
   "id": "bbe7d686-c3ed-4380-88bd-55c4ff56cbff",
   "metadata": {},
   "source": [
    "### Q3. Search"
   ]
  },
  {
   "cell_type": "code",
   "execution_count": null,
   "id": "a0645df9-b74e-46f4-8b03-84013f20e629",
   "metadata": {},
   "outputs": [],
   "source": [
    "v = query_vector\n",
    "v.shape"
   ]
  },
  {
   "cell_type": "code",
   "execution_count": null,
   "id": "b838e244-38fe-4329-868e-5608d416a1cc",
   "metadata": {},
   "outputs": [],
   "source": [
    "v.dot(v)"
   ]
  },
  {
   "cell_type": "code",
   "execution_count": null,
   "id": "0451e91a-1536-4866-98b6-636c20c8f27e",
   "metadata": {},
   "outputs": [],
   "source": [
    "X[0].dot(X[0])"
   ]
  },
  {
   "cell_type": "code",
   "execution_count": null,
   "id": "4ab8fdfe-14b3-4c38-b6b6-8b58e9d3d67c",
   "metadata": {},
   "outputs": [],
   "source": [
    "scores = X.dot(query_vector)\n",
    "scores.max()"
   ]
  },
  {
   "cell_type": "markdown",
   "id": "894c7437-3581-47bc-a4d1-c37f9ad6949f",
   "metadata": {},
   "source": [
    "### Q4. Hit-rate for our search engine"
   ]
  },
  {
   "cell_type": "code",
   "execution_count": null,
   "id": "aec3673d-e517-4de8-9a5a-21e749b60df3",
   "metadata": {},
   "outputs": [],
   "source": [
    "class VectorSearchEngine():\n",
    "    def __init__(self, documents, embeddings):\n",
    "        self.documents = documents\n",
    "        self.embeddings = embeddings\n",
    "\n",
    "    def search(self, v_query, num_results=10):\n",
    "        scores = self.embeddings.dot(v_query)\n",
    "        idx = np.argsort(-scores)[:num_results]\n",
    "        return [self.documents[i] for i in idx]"
   ]
  },
  {
   "cell_type": "code",
   "execution_count": null,
   "id": "6cfcd648-5e0f-44e6-9515-ef8a25e4aa49",
   "metadata": {},
   "outputs": [],
   "source": [
    "search_engine = VectorSearchEngine(documents=filtered_documents, embeddings=X)\n",
    "results = search_engine.search(query_vector, num_results=5)"
   ]
  },
  {
   "cell_type": "code",
   "execution_count": null,
   "id": "21e782b4-ad88-466f-8291-e5ae9bb6f349",
   "metadata": {},
   "outputs": [],
   "source": [
    "import pandas as pd"
   ]
  },
  {
   "cell_type": "code",
   "execution_count": null,
   "id": "bda688f7-5514-4416-9aae-457ad5f3cc06",
   "metadata": {},
   "outputs": [],
   "source": [
    "base_url = 'https://github.com/DataTalksClub/llm-zoomcamp/blob/main'\n",
    "relative_url = '03-vector-search/eval/ground-truth-data.csv'\n",
    "ground_truth_url = f'{base_url}/{relative_url}?raw=1'\n",
    "\n",
    "df_ground_truth = pd.read_csv(ground_truth_url)\n",
    "df_ground_truth = df_ground_truth[df_ground_truth.course == 'machine-learning-zoomcamp']\n",
    "ground_truth = df_ground_truth.to_dict(orient='records')"
   ]
  },
  {
   "cell_type": "code",
   "execution_count": null,
   "id": "20558b16-a862-4377-80a8-8b6c28c4e786",
   "metadata": {},
   "outputs": [],
   "source": [
    "def hit_rate(relevance_total):\n",
    "    cnt = 0\n",
    "\n",
    "    for line in relevance_total:\n",
    "        if True in line:\n",
    "            cnt = cnt + 1\n",
    "\n",
    "    return cnt / len(relevance_total)"
   ]
  },
  {
   "cell_type": "code",
   "execution_count": null,
   "id": "78d844e9-5e7d-452a-8257-26ae204a93ff",
   "metadata": {},
   "outputs": [],
   "source": [
    "def mrr(relevance_total):\n",
    "    total_score = 0.0\n",
    "\n",
    "    for line in relevance_total:\n",
    "        for rank in range(len(line)):\n",
    "            if line[rank] == True:\n",
    "                total_score = total_score + 1 / (rank + 1)\n",
    "\n",
    "    return total_score / len(relevance_total)"
   ]
  },
  {
   "cell_type": "code",
   "execution_count": null,
   "id": "a60e3524-b89d-49a4-9b57-495cffc33942",
   "metadata": {},
   "outputs": [],
   "source": [
    "def evaluate(ground_truth, search_function, embedding_model):\n",
    "    relevance_total = []\n",
    "\n",
    "    for q in tqdm(ground_truth):\n",
    "        doc_id = q['document']\n",
    "        v = embedding_model.encode(q['question'])\n",
    "        results = search_function(v)\n",
    "        relevance = [d['id'] == doc_id for d in results]\n",
    "        relevance_total.append(relevance)\n",
    "\n",
    "    return {\n",
    "        'hit_rate': hit_rate(relevance_total),\n",
    "        'mrr': mrr(relevance_total),\n",
    "    }"
   ]
  },
  {
   "cell_type": "code",
   "execution_count": null,
   "id": "7db7d218-7461-4740-b8d5-80f144ec7533",
   "metadata": {},
   "outputs": [],
   "source": [
    "evaluate(ground_truth, search_engine.search, embedding_model)"
   ]
  },
  {
   "cell_type": "markdown",
   "id": "198a1b8c-0e95-40db-b3d1-45430b6cd897",
   "metadata": {},
   "source": [
    "### Q5. Indexing with Elasticsearch"
   ]
  },
  {
   "cell_type": "code",
   "execution_count": null,
   "id": "8d07a037-8f7f-4c16-adcd-45a0a216bd09",
   "metadata": {},
   "outputs": [],
   "source": [
    "from elasticsearch import Elasticsearch\n",
    "\n",
    "es_client = Elasticsearch('http://localhost:9200') \n",
    "\n",
    "index_settings = {\n",
    "    \"settings\": {\n",
    "        \"number_of_shards\": 1,\n",
    "        \"number_of_replicas\": 0\n",
    "    },\n",
    "    \"mappings\": {\n",
    "        \"properties\": {\n",
    "            \"text\": {\"type\": \"text\"},\n",
    "            \"section\": {\"type\": \"text\"},\n",
    "            \"question\": {\"type\": \"text\"},\n",
    "            \"course\": {\"type\": \"keyword\"},\n",
    "            \"id\": {\"type\": \"keyword\"},\n",
    "            \"question_text_vector\": {\n",
    "                \"type\": \"dense_vector\",\n",
    "                \"dims\": 768,\n",
    "                \"index\": True,\n",
    "                \"similarity\": \"cosine\"\n",
    "            },\n",
    "        }\n",
    "    }\n",
    "}\n",
    "\n",
    "index_name = \"course-questions\"\n",
    "\n",
    "es_client.indices.delete(index=index_name, ignore_unavailable=True)\n",
    "es_client.indices.create(index=index_name, body=index_settings)"
   ]
  },
  {
   "cell_type": "code",
   "execution_count": null,
   "id": "c2d289ad-e980-4706-87bf-1fc3156141a2",
   "metadata": {},
   "outputs": [],
   "source": [
    "from tqdm.auto import tqdm"
   ]
  },
  {
   "cell_type": "code",
   "execution_count": null,
   "id": "24f7582f-9812-4e0a-9932-33729bae09ea",
   "metadata": {},
   "outputs": [],
   "source": [
    "for i,doc in tqdm(enumerate(filtered_documents)):\n",
    "    doc['question_text_vector'] = embeddings[i]\n",
    "    es_client.index(index=index_name, document=doc)"
   ]
  },
  {
   "cell_type": "code",
   "execution_count": null,
   "id": "bff61f56-f6c2-4818-8c57-ca861c949cac",
   "metadata": {},
   "outputs": [],
   "source": [
    "es_client.count(index=index_name)"
   ]
  },
  {
   "cell_type": "code",
   "execution_count": null,
   "id": "72645d19-4217-49a2-ab11-9862ff0fd80f",
   "metadata": {},
   "outputs": [],
   "source": [
    "def elastic_search_knn_small(query_vector):\n",
    "    search_query = {\n",
    "        \"knn\": {\n",
    "            \"field\": 'question_text_vector',\n",
    "            \"query_vector\": query_vector,\n",
    "            \"k\": 5,\n",
    "            \"num_candidates\": 10000,\n",
    "        },\n",
    "        \"_source\": [\"text\", \"section\", \"question\", \"course\", \"id\"]\n",
    "    }\n",
    "\n",
    "    es_results = es_client.search(\n",
    "        index=index_name,\n",
    "        body=search_query\n",
    "    )\n",
    "    \n",
    "    result_docs = []\n",
    "    \n",
    "    for hit in es_results['hits']['hits']:\n",
    "        result_docs.append(hit['_source'])\n",
    "\n",
    "    return result_docs"
   ]
  },
  {
   "cell_type": "code",
   "execution_count": null,
   "id": "a1b242ab-8313-40ac-8be1-180f828cd3f5",
   "metadata": {},
   "outputs": [],
   "source": [
    "search_query = {\n",
    "    \"knn\": {\n",
    "        \"field\": 'question_text_vector',\n",
    "        \"query_vector\": query_vector,\n",
    "        \"k\": 5,\n",
    "        \"num_candidates\": 10000,\n",
    "    },\n",
    "    \"_source\": [\"text\", \"section\", \"question\", \"course\", \"id\"]\n",
    "}"
   ]
  },
  {
   "cell_type": "code",
   "execution_count": null,
   "id": "99bc2c43-23a1-4b30-9d03-004fb05a85de",
   "metadata": {},
   "outputs": [],
   "source": [
    "es_results = es_client.search(\n",
    "        index=index_name,\n",
    "        body=search_query\n",
    "    )"
   ]
  },
  {
   "cell_type": "code",
   "execution_count": null,
   "id": "9718ade5-f281-4b6f-a39e-19d30d625fd1",
   "metadata": {},
   "outputs": [],
   "source": [
    "es_results['hits']['hits'][0]['_score']"
   ]
  }
 ],
 "metadata": {
  "kernelspec": {
   "display_name": "Python 3 (ipykernel)",
   "language": "python",
   "name": "python3"
  },
  "language_info": {
   "codemirror_mode": {
    "name": "ipython",
    "version": 3
   },
   "file_extension": ".py",
   "mimetype": "text/x-python",
   "name": "python",
   "nbconvert_exporter": "python",
   "pygments_lexer": "ipython3",
   "version": "3.10.12"
  }
 },
 "nbformat": 4,
 "nbformat_minor": 5
}
